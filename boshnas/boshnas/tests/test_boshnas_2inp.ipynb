{
 "cells": [
  {
   "cell_type": "code",
   "execution_count": 1,
   "metadata": {},
   "outputs": [],
   "source": [
    "import os\n",
    "import sys\n",
    "import numpy as np\n",
    "\n",
    "sys.path.append('../')\n",
    "\n",
    "from boshnas import BOSHNAS\n",
    "from boshnas_2inp import BOSHNAS as BOSHNAS_2inp"
   ]
  },
  {
   "cell_type": "code",
   "execution_count": 2,
   "metadata": {},
   "outputs": [],
   "source": [
    "X_cnn = np.random.rand(10, 16)\n",
    "X_acc = np.random.rand(10, 8)\n",
    "y = np.random.rand(10)\n",
    "\n",
    "min_X_cnn, max_X_cnn = np.min(X_cnn, axis=0), np.max(X_cnn, axis=0)\n",
    "min_X_acc, max_X_acc = np.min(X_acc, axis=0), np.max(X_acc, axis=0)\n",
    "\n",
    "surrogate_model = BOSHNAS_2inp(16, 8, \n",
    "                              bounds1=(min_X_cnn, max_X_cnn),\n",
    "                              bounds2=(min_X_acc, max_X_acc),\n",
    "                              trust_region=False,\n",
    "                              second_order=True,\n",
    "                              parallel=True,\n",
    "                              model_aleatoric=True,\n",
    "                              save_path='../checkpoints/',\n",
    "                              pretrained=False)"
   ]
  },
  {
   "cell_type": "code",
   "execution_count": 3,
   "metadata": {},
   "outputs": [
    {
     "name": "stderr",
     "output_type": "stream",
     "text": [
      "/home/stuli/.conda/envs/cnnbench/lib/python3.8/site-packages/torch/nn/functional.py:1709: UserWarning: nn.functional.sigmoid is deprecated. Use torch.sigmoid instead.\n",
      "  warnings.warn(\"nn.functional.sigmoid is deprecated. Use torch.sigmoid instead.\")\n"
     ]
    },
    {
     "data": {
      "text/plain": [
       "(4.337308406829834, 0.004220523871481419, 0.001239666249603033)"
      ]
     },
     "execution_count": 3,
     "metadata": {},
     "output_type": "execute_result"
    }
   ],
   "source": [
    "surrogate_model.train(X_cnn, X_acc, y)"
   ]
  },
  {
   "cell_type": "code",
   "execution_count": 4,
   "metadata": {},
   "outputs": [
    {
     "data": {
      "text/plain": [
       "[(8, 8), (8, 8), (8, 8), (4, 8), (4, 8)]"
      ]
     },
     "execution_count": 4,
     "metadata": {},
     "output_type": "execute_result"
    }
   ],
   "source": [
    "inps = [(X_cnn[i, :], X_acc[i, :]) for i in range(X_cnn.shape[0])]\n",
    "\n",
    "surrogate_model.get_queries(inps, 5, 'ucb')"
   ]
  }
 ],
 "metadata": {
  "kernelspec": {
   "display_name": "cnnbench [~/.conda/envs/cnnbench/]",
   "language": "python",
   "name": "conda_cnnbench"
  },
  "language_info": {
   "codemirror_mode": {
    "name": "ipython",
    "version": 3
   },
   "file_extension": ".py",
   "mimetype": "text/x-python",
   "name": "python",
   "nbconvert_exporter": "python",
   "pygments_lexer": "ipython3",
   "version": "3.8.10"
  }
 },
 "nbformat": 4,
 "nbformat_minor": 4
}
